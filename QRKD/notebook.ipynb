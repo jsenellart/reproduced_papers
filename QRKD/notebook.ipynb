{
 "cells": [
  {
   "cell_type": "markdown",
   "id": "3a1334df",
   "metadata": {},
   "source": [
    "# QRKD MNIST (Classical) — Quick Run\n",
    "This notebook runs a shortened training to reproduce the MNIST classical baselines (From Scratch, KD, RKD, and QRKD-classical)."
   ]
  },
  {
   "cell_type": "code",
   "execution_count": null,
   "id": "4d3cbcf8",
   "metadata": {},
   "outputs": [],
   "source": [
    "# Setup: minimal epochs for a fast demonstration\n",
    "from QRKD.implementation import run\n",
    "\n",
    "summary = run()\n",
    "summary"
   ]
  }
 ],
 "metadata": {
  "language_info": {
   "name": "python"
  }
 },
 "nbformat": 4,
 "nbformat_minor": 5
}
